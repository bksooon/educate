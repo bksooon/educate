{
 "cells": [
  {
   "cell_type": "markdown",
   "metadata": {},
   "source": [
    "## 포매팅"
   ]
  },
  {
   "cell_type": "code",
   "execution_count": 15,
   "metadata": {},
   "outputs": [
    {
     "name": "stdout",
     "output_type": "stream",
     "text": [
      "i eat 3 apples.\n",
      "i eat five apples\n",
      "i eat 3 apples.\n",
      "i ate 10 apples. so i was sick fot three days.\n"
     ]
    }
   ],
   "source": [
    "print(\"i eat %d apples.\" % 3)\n",
    "print(\"i eat %s apples\" % \"five\")\n",
    "number = 3\n",
    "print(\"i eat %d apples.\" % number ) \n",
    "number = 10\n",
    "day = \"three\"\n",
    "print(\"i ate %d apples. so i was sick fot %s days.\" %(number, day))\n",
    "# print()"
   ]
  },
  {
   "cell_type": "code",
   "execution_count": 37,
   "metadata": {},
   "outputs": [
    {
     "name": "stdout",
     "output_type": "stream",
     "text": [
      "        hi\n",
      "hi         jane\n",
      "3.4212\n",
      "    3.4221\n",
      "\n"
     ]
    }
   ],
   "source": [
    "print(\n",
    "  \"%10s\" % \"hi\" + \"\\n\"\n",
    "  \"%-10s jane\" % 'hi' +'\\n'\n",
    "  \"%0.4f\" % 3.421234 + \"\\n\"\n",
    "  \"%10.4f\" % 3.422123 + \"\\n\"\n",
    ")"
   ]
  },
  {
   "cell_type": "code",
   "execution_count": 59,
   "metadata": {},
   "outputs": [
    {
     "name": "stdout",
     "output_type": "stream",
     "text": [
      "i eat 3 apples\n",
      "i eat 10 apples\n",
      "i ate 10 apples. so i was sick for three days\n",
      "i ate 10 apples. so i was sick for 3 days\n",
      "i ate 10 apples. so i was sick for 3 days\n",
      "hi        \n",
      "        hi\n",
      "    hi    \n",
      "\n"
     ]
    }
   ],
   "source": [
    "number = 3\n",
    "number = 10\n",
    "day = \"three\"\n",
    "print(\n",
    "  \"i eat {0} apples\".format(3) + \"\\n\" \n",
    "  \"i eat {0} apples\".format(number) + \"\\n\"\n",
    "  \"i ate {0} apples. so i was sick for {1} days\".format(number, day) + \"\\n\"\n",
    "  \"i ate {numbers} apples. so i was sick for {day} days\".format(numbers=10, day=3) + \"\\n\"\n",
    "  \"i ate {0} apples. so i was sick for {day} days\".format(10, day=3) + \"\\n\"\n",
    "   ## :<10 표현식을 사용하면 치환되는 문자열을 정렬 가능하다\n",
    "  \"{0:<10}\".format(\"hi\") + \"\\n\"\n",
    "  \"{0:>10}\".format(\"hi\") + \"\\n\"\n",
    "  \"{0:^10}\".format(\"hi\") + \"\\n\"  \n",
    ")"
   ]
  },
  {
   "cell_type": "code",
   "execution_count": 6,
   "metadata": {},
   "outputs": [
    {
     "name": "stdout",
     "output_type": "stream",
     "text": [
      "나의 이름은 홍길동입니다. 나이는 30입니다\n",
      "나는 내년이면 31살이 된다\n",
      "나의 이름은 홍길동입니다. 나이는 30입니다\n",
      "나의 이름은 홍길동입니다. 나이는 30입니다\n",
      "My name is Hong Gil-dong. My age is 30\n"
     ]
    }
   ],
   "source": [
    "## f 문자열 포매팅(over 3.6)\n",
    "name = '홍길동'\n",
    "age = 30\n",
    "print(f'나의 이름은 {name}입니다. 나이는 {age}입니다')\n",
    "print(f'나는 내년이면 {age +1}살이 된다')\n",
    "d = {'name':'홍길동', 'age':30}\n",
    "print(f'나의 이름은 {d[\"name\"]}입니다. 나이는 {d[\"age\"]}입니다')\n",
    "print(f'나의 이름은 {d[\"name\"]}입니다. 나이는 {d[\"age\"]}입니다')\n",
    "## 이런식으로 작성하기 위해서는 d라는 데이터는 객체\n",
    "class Person:\n",
    "    def __init__(self, name, age):\n",
    "        self.name = name\n",
    "        self.age = age\n",
    "\n",
    "d = Person('Hong Gil-dong', 30)\n",
    "print(f'My name is {d.name}. My age is {d.age}')"
   ]
  },
  {
   "cell_type": "code",
   "execution_count": 27,
   "metadata": {},
   "outputs": [
    {
     "name": "stdout",
     "output_type": "stream",
     "text": [
      "I will be 31 years old next year.\n",
      "2\n",
      "14\n",
      "-1\n",
      "8\n",
      "\n"
     ]
    }
   ],
   "source": [
    "age = 30\n",
    "print(f'I will be {age + 1} years old next year.')\n",
    "\n",
    "a = \"hobby\"\n",
    "b = \"Python is the best choice\"\n",
    "aa = \"Life is too short\"\n",
    "print(\n",
    "  str(a.count(\"b\")) + \"\\n\" +\n",
    "  str(b.find('b')) + \"\\n\" +\n",
    "  str(b.find('k')) + \"\\n\" +\n",
    "  str(aa.index(\"t\")) + \"\\n\" \n",
    "  ## ValueError: substring not found \n",
    "  # str(aa.index(\"k\")) + \"\\n\" \n",
    ")"
   ]
  },
  {
   "cell_type": "code",
   "execution_count": 57,
   "metadata": {},
   "outputs": [
    {
     "name": "stdout",
     "output_type": "stream",
     "text": [
      "a,b,c,d\n",
      "a,b,c,d\n",
      "HI\n",
      "hi\n",
      "hi1 \n",
      " hi2\n",
      "hi3\n",
      "Your Leg is too short\n",
      "['Life', 'is', 'too', 'short']\n",
      "['a', 'b', 'c', 'd']\n"
     ]
    }
   ],
   "source": [
    "## 문자열 삽입(join)\n",
    "print(\",\".join('abcd'))\n",
    "print(\",\".join(['a','b','c','d'])) ## 튜플이나 리스트 join 사용\n",
    "\n",
    "## 소문자를 대문자로 바꾸기(upper)\n",
    "a = \"hi\"\n",
    "print(a.upper())\n",
    "\n",
    "## 대문자를 소문자로 바꾸기(lower)\n",
    "a = \"HI\"\n",
    "print(a.lower())\n",
    "\n",
    "## 공백 지우기(istrip)\n",
    "a = \" hi1 \"\n",
    "print(a.lstrip())\n",
    "\n",
    "a = ' hi2 '\n",
    "print(a.rstrip())\n",
    "\n",
    "a = ' hi3 '\n",
    "print(a.strip())\n",
    "\n",
    "## 문자열 바꾸기(replace)\n",
    "a = \"Life is too short\"\n",
    "print(a.replace(\"Life\", \"Your Leg\"))\n",
    "\n",
    "## 문자열 나누기(split)\n",
    "a = \"Life is too short\"\n",
    "print(a.split())\n",
    "\n",
    "b = \"a:b:c:d\"\n",
    "print(b.split(\":\"))"
   ]
  },
  {
   "cell_type": "markdown",
   "metadata": {},
   "source": [
    "# 리스트"
   ]
  },
  {
   "cell_type": "code",
   "execution_count": 71,
   "metadata": {},
   "outputs": [
    {
     "name": "stdout",
     "output_type": "stream",
     "text": [
      "4\n",
      "1\n",
      "abc\n",
      "Life\n",
      "[1, 2]\n"
     ]
    }
   ],
   "source": [
    "## 리스트의 인덱싱\n",
    "a = [1,2,3]\n",
    "print(a[0] + a[2])\n",
    "a = [1,2,3,['a','b','c']]\n",
    "print(a[0])\n",
    "print(a[-1][0] + a[-1][1] + a[-1][2])\n",
    "\n",
    "## 삼중 리스트에서 인덱싱하기\n",
    "a= [1,2,['a','b',['Life', 'is']]]\n",
    "print(a[2][2][0])\n",
    "\n",
    "## 리스트의 슬라이싱\n",
    "a=[1,2,3,4,5]\n",
    "print(a[0:2])"
   ]
  },
  {
   "cell_type": "code",
   "execution_count": null,
   "metadata": {},
   "outputs": [],
   "source": []
  }
 ],
 "metadata": {
  "kernelspec": {
   "display_name": "Python 3",
   "language": "python",
   "name": "python3"
  },
  "language_info": {
   "codemirror_mode": {
    "name": "ipython",
    "version": 3
   },
   "file_extension": ".py",
   "mimetype": "text/x-python",
   "name": "python",
   "nbconvert_exporter": "python",
   "pygments_lexer": "ipython3",
   "version": "3.9.16"
  },
  "orig_nbformat": 4
 },
 "nbformat": 4,
 "nbformat_minor": 2
}
