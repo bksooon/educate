{
 "cells": [
  {
   "cell_type": "markdown",
   "metadata": {},
   "source": [
    "## 포매팅"
   ]
  },
  {
   "cell_type": "code",
   "execution_count": 15,
   "metadata": {},
   "outputs": [
    {
     "name": "stdout",
     "output_type": "stream",
     "text": [
      "i eat 3 apples.\n",
      "i eat five apples\n",
      "i eat 3 apples.\n",
      "i ate 10 apples. so i was sick fot three days.\n"
     ]
    }
   ],
   "source": [
    "print(\"i eat %d apples.\" % 3)\n",
    "print(\"i eat %s apples\" % \"five\")\n",
    "number = 3\n",
    "print(\"i eat %d apples.\" % number ) \n",
    "number = 10\n",
    "day = \"three\"\n",
    "print(\"i ate %d apples. so i was sick fot %s days.\" %(number, day))\n",
    "# print()"
   ]
  },
  {
   "cell_type": "code",
   "execution_count": 37,
   "metadata": {},
   "outputs": [
    {
     "name": "stdout",
     "output_type": "stream",
     "text": [
      "        hi\n",
      "hi         jane\n",
      "3.4212\n",
      "    3.4221\n",
      "\n"
     ]
    }
   ],
   "source": [
    "print(\n",
    "  \"%10s\" % \"hi\" + \"\\n\"\n",
    "  \"%-10s jane\" % 'hi' +'\\n'\n",
    "  \"%0.4f\" % 3.421234 + \"\\n\"\n",
    "  \"%10.4f\" % 3.422123 + \"\\n\"\n",
    ")"
   ]
  },
  {
   "cell_type": "code",
   "execution_count": 59,
   "metadata": {},
   "outputs": [
    {
     "name": "stdout",
     "output_type": "stream",
     "text": [
      "i eat 3 apples\n",
      "i eat 10 apples\n",
      "i ate 10 apples. so i was sick for three days\n",
      "i ate 10 apples. so i was sick for 3 days\n",
      "i ate 10 apples. so i was sick for 3 days\n",
      "hi        \n",
      "        hi\n",
      "    hi    \n",
      "\n"
     ]
    }
   ],
   "source": [
    "number = 3\n",
    "number = 10\n",
    "day = \"three\"\n",
    "print(\n",
    "  \"i eat {0} apples\".format(3) + \"\\n\" \n",
    "  \"i eat {0} apples\".format(number) + \"\\n\"\n",
    "  \"i ate {0} apples. so i was sick for {1} days\".format(number, day) + \"\\n\"\n",
    "  \"i ate {numbers} apples. so i was sick for {day} days\".format(numbers=10, day=3) + \"\\n\"\n",
    "  \"i ate {0} apples. so i was sick for {day} days\".format(10, day=3) + \"\\n\"\n",
    "   ## :<10 표현식을 사용하면 치환되는 문자열을 정렬 가능하다\n",
    "  \"{0:<10}\".format(\"hi\") + \"\\n\"\n",
    "  \"{0:>10}\".format(\"hi\") + \"\\n\"\n",
    "  \"{0:^10}\".format(\"hi\") + \"\\n\"  \n",
    ")"
   ]
  },
  {
   "cell_type": "code",
   "execution_count": null,
   "metadata": {},
   "outputs": [],
   "source": []
  }
 ],
 "metadata": {
  "kernelspec": {
   "display_name": "Python 3",
   "language": "python",
   "name": "python3"
  },
  "language_info": {
   "codemirror_mode": {
    "name": "ipython",
    "version": 3
   },
   "file_extension": ".py",
   "mimetype": "text/x-python",
   "name": "python",
   "nbconvert_exporter": "python",
   "pygments_lexer": "ipython3",
   "version": "3.9.16"
  },
  "orig_nbformat": 4
 },
 "nbformat": 4,
 "nbformat_minor": 2
}
